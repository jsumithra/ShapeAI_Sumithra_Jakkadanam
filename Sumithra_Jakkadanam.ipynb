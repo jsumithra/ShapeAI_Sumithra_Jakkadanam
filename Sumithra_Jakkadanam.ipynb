{
  "nbformat": 4,
  "nbformat_minor": 0,
  "metadata": {
    "colab": {
      "name": "Sumithra_Jakkadanam.ipynb",
      "provenance": [],
      "collapsed_sections": []
    },
    "kernelspec": {
      "name": "python3",
      "display_name": "Python 3"
    },
    "language_info": {
      "name": "python"
    }
  },
  "cells": [
    {
      "cell_type": "code",
      "metadata": {
        "id": "0q3OPYeAQecy"
      },
      "source": [
        "##IMPORTING DATASETS\n",
        "from keras.datasets import mnist\n",
        "data=mnist.load_data()\n"
      ],
      "execution_count": 18,
      "outputs": []
    },
    {
      "cell_type": "markdown",
      "metadata": {
        "id": "-cgUvVEvS7tO"
      },
      "source": [
        "**Define Training and Testing Data**"
      ]
    },
    {
      "cell_type": "code",
      "metadata": {
        "id": "fo1IEMgXS2Tp"
      },
      "source": [
        "(X_train,Y_train),(X_test,Y_test)=mnist.load_data()"
      ],
      "execution_count": 19,
      "outputs": []
    },
    {
      "cell_type": "code",
      "metadata": {
        "id": "y216pOVLUu5d"
      },
      "source": [
        "X_train=X_train.reshape((X_train.shape[0],28*28)).astype('float32')\n",
        "X_test=X_test.reshape((X_test.shape[0],28*28)).astype('float32')"
      ],
      "execution_count": 20,
      "outputs": []
    },
    {
      "cell_type": "code",
      "metadata": {
        "id": "_oZM-uurVerG"
      },
      "source": [
        "X_train=X_train/255\n",
        "X_test=X_test/255\n"
      ],
      "execution_count": 21,
      "outputs": []
    },
    {
      "cell_type": "code",
      "metadata": {
        "colab": {
          "base_uri": "https://localhost:8080/"
        },
        "id": "x3jnOCJWVt7G",
        "outputId": "74c39678-68a8-4c5f-812a-840f2d811de3"
      },
      "source": [
        "from keras.utils import np_utils\n",
        "\n",
        "print(Y_test.shape)\n",
        "\n",
        "Y_train = np_utils.to_categorical(Y_train)\n",
        "Y_test = np_utils.to_categorical(Y_test)\n",
        "\n",
        "num_classes = Y_test.shape[1]\n",
        "print(num_classes)\n"
      ],
      "execution_count": 22,
      "outputs": [
        {
          "output_type": "stream",
          "text": [
            "(10000,)\n",
            "10\n"
          ],
          "name": "stdout"
        }
      ]
    },
    {
      "cell_type": "code",
      "metadata": {
        "id": "PNtvEWFfZluy"
      },
      "source": [
        "from keras.models import Sequential\n",
        "from keras.layers import Dense"
      ],
      "execution_count": 23,
      "outputs": []
    },
    {
      "cell_type": "code",
      "metadata": {
        "id": "__0B5PrZZ8_X"
      },
      "source": [
        "#Define Model\n",
        "model = Sequential()\n",
        "\n",
        "#Add First Hidden Layer\n",
        "model.add(Dense(32,input_dim=28*28,activation='relu'))\n",
        "\n",
        "#Add Second Hidden Layer\n",
        "model.add(Dense(64,activation='relu'))\n",
        "\n",
        "#Add output layer having 10 neurons\n",
        "model.add(Dense(10,activation='softmax')) "
      ],
      "execution_count": 26,
      "outputs": []
    },
    {
      "cell_type": "code",
      "metadata": {
        "id": "ZmJkquD5bW46"
      },
      "source": [
        "#Compile Model\n",
        "model.compile(loss='categorical_crossentropy',optimizer='adam',metrics=['accurate'])"
      ],
      "execution_count": 27,
      "outputs": []
    },
    {
      "cell_type": "code",
      "metadata": {
        "colab": {
          "base_uri": "https://localhost:8080/"
        },
        "id": "fAvhfs_YcJ-n",
        "outputId": "bc27d780-29a0-4084-bd06-aa22b3ace0c0"
      },
      "source": [
        "# Print Model Summary\n",
        "model.summary()"
      ],
      "execution_count": 28,
      "outputs": [
        {
          "output_type": "stream",
          "text": [
            "Model: \"sequential_2\"\n",
            "_________________________________________________________________\n",
            "Layer (type)                 Output Shape              Param #   \n",
            "=================================================================\n",
            "dense_6 (Dense)              (None, 32)                25120     \n",
            "_________________________________________________________________\n",
            "dense_7 (Dense)              (None, 64)                2112      \n",
            "_________________________________________________________________\n",
            "dense_8 (Dense)              (None, 10)                650       \n",
            "=================================================================\n",
            "Total params: 27,882\n",
            "Trainable params: 27,882\n",
            "Non-trainable params: 0\n",
            "_________________________________________________________________\n"
          ],
          "name": "stdout"
        }
      ]
    }
  ]
}